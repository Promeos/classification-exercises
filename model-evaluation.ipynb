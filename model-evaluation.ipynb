{
 "cells": [
  {
   "cell_type": "markdown",
   "metadata": {},
   "source": [
    "# Classification Model Evaluation\n",
    "\n",
    "Common ways of evaluating a __classification__ model's performance.\n",
    "> A model is an algorithm/classifier that is fit to the training set.\n",
    " https://docs.aws.amazon.com/machine-learning/latest/dg/training-ml-models.html\n",
    " \n",
    "1. __Confusion matrix__: is a cross-tabulation of a model's predictions against the actual outcome.\n",
    "https://en.wikipedia.org/wiki/Confusion_matrix"
   ]
  },
  {
   "cell_type": "code",
   "execution_count": 1,
   "metadata": {},
   "outputs": [],
   "source": [
    "import pandas as pd\n",
    "import numpy as np\n",
    "from sklearn.dummy import DummyClassifier\n",
    "from sklearn.metrics import confusion_matrix"
   ]
  },
  {
   "cell_type": "code",
   "execution_count": 2,
   "metadata": {},
   "outputs": [
    {
     "name": "stdout",
     "output_type": "stream",
     "text": [
      "Our model predicts whether or not someone like coffee.\n"
     ]
    },
    {
     "data": {
      "text/html": [
       "<div>\n",
       "<style scoped>\n",
       "    .dataframe tbody tr th:only-of-type {\n",
       "        vertical-align: middle;\n",
       "    }\n",
       "\n",
       "    .dataframe tbody tr th {\n",
       "        vertical-align: top;\n",
       "    }\n",
       "\n",
       "    .dataframe thead th {\n",
       "        text-align: right;\n",
       "    }\n",
       "</style>\n",
       "<table border=\"1\" class=\"dataframe\">\n",
       "  <thead>\n",
       "    <tr style=\"text-align: right;\">\n",
       "      <th></th>\n",
       "      <th>actual</th>\n",
       "      <th>prediction</th>\n",
       "    </tr>\n",
       "  </thead>\n",
       "  <tbody>\n",
       "    <tr>\n",
       "      <th>0</th>\n",
       "      <td>coffee</td>\n",
       "      <td>no coffee</td>\n",
       "    </tr>\n",
       "    <tr>\n",
       "      <th>1</th>\n",
       "      <td>no coffee</td>\n",
       "      <td>no coffee</td>\n",
       "    </tr>\n",
       "    <tr>\n",
       "      <th>2</th>\n",
       "      <td>no coffee</td>\n",
       "      <td>coffee</td>\n",
       "    </tr>\n",
       "    <tr>\n",
       "      <th>3</th>\n",
       "      <td>coffee</td>\n",
       "      <td>coffee</td>\n",
       "    </tr>\n",
       "    <tr>\n",
       "      <th>4</th>\n",
       "      <td>coffee</td>\n",
       "      <td>coffee</td>\n",
       "    </tr>\n",
       "    <tr>\n",
       "      <th>5</th>\n",
       "      <td>coffee</td>\n",
       "      <td>coffee</td>\n",
       "    </tr>\n",
       "    <tr>\n",
       "      <th>6</th>\n",
       "      <td>no coffee</td>\n",
       "      <td>no coffee</td>\n",
       "    </tr>\n",
       "    <tr>\n",
       "      <th>7</th>\n",
       "      <td>coffee</td>\n",
       "      <td>no coffee</td>\n",
       "    </tr>\n",
       "  </tbody>\n",
       "</table>\n",
       "</div>"
      ],
      "text/plain": [
       "      actual prediction\n",
       "0     coffee  no coffee\n",
       "1  no coffee  no coffee\n",
       "2  no coffee     coffee\n",
       "3     coffee     coffee\n",
       "4     coffee     coffee\n",
       "5     coffee     coffee\n",
       "6  no coffee  no coffee\n",
       "7     coffee  no coffee"
      ]
     },
     "execution_count": 2,
     "metadata": {},
     "output_type": "execute_result"
    }
   ],
   "source": [
    "# This is a simplified version on model evaluation to understand the\n",
    "# fundamentals tools to evaluate the models.\n",
    "df = pd.DataFrame({\n",
    "    'actual': ['coffee', 'no coffee', 'no coffee', 'coffee',\n",
    "               'coffee', 'coffee', 'no coffee', 'coffee'],\n",
    "    'prediction': ['no coffee', 'no coffee', 'coffee',\n",
    "                   'coffee', 'coffee', 'coffee', 'no coffee',\n",
    "                   'no coffee'],\n",
    "})\n",
    "print(\"Our model predicts whether or not someone like coffee.\")\n",
    "df"
   ]
  },
  {
   "cell_type": "code",
   "execution_count": 5,
   "metadata": {},
   "outputs": [
    {
     "data": {
      "text/html": [
       "<div>\n",
       "<style scoped>\n",
       "    .dataframe tbody tr th:only-of-type {\n",
       "        vertical-align: middle;\n",
       "    }\n",
       "\n",
       "    .dataframe tbody tr th {\n",
       "        vertical-align: top;\n",
       "    }\n",
       "\n",
       "    .dataframe thead th {\n",
       "        text-align: right;\n",
       "    }\n",
       "</style>\n",
       "<table border=\"1\" class=\"dataframe\">\n",
       "  <thead>\n",
       "    <tr style=\"text-align: right;\">\n",
       "      <th>actual</th>\n",
       "      <th>coffee</th>\n",
       "      <th>no coffee</th>\n",
       "    </tr>\n",
       "    <tr>\n",
       "      <th>prediction</th>\n",
       "      <th></th>\n",
       "      <th></th>\n",
       "    </tr>\n",
       "  </thead>\n",
       "  <tbody>\n",
       "    <tr>\n",
       "      <th>coffee</th>\n",
       "      <td>3</td>\n",
       "      <td>1</td>\n",
       "    </tr>\n",
       "    <tr>\n",
       "      <th>no coffee</th>\n",
       "      <td>2</td>\n",
       "      <td>2</td>\n",
       "    </tr>\n",
       "  </tbody>\n",
       "</table>\n",
       "</div>"
      ],
      "text/plain": [
       "actual      coffee  no coffee\n",
       "prediction                   \n",
       "coffee           3          1\n",
       "no coffee        2          2"
      ]
     },
     "execution_count": 5,
     "metadata": {},
     "output_type": "execute_result"
    }
   ],
   "source": [
    "# This is a confusion matrix\n",
    "pd.crosstab(df.prediction, df.actual)"
   ]
  },
  {
   "cell_type": "code",
   "execution_count": 6,
   "metadata": {},
   "outputs": [
    {
     "data": {
      "text/plain": [
       "array([[3, 2],\n",
       "       [1, 2]])"
      ]
     },
     "execution_count": 6,
     "metadata": {},
     "output_type": "execute_result"
    }
   ],
   "source": [
    "# The function accepts actual outcome, predicted outcome.\n",
    "confusion_matrix(df.actual, df.prediction)"
   ]
  },
  {
   "cell_type": "markdown",
   "metadata": {},
   "source": [
    "> Working through this simple example, I understand the contents and layout of a confusion matrix!\n",
    "\n",
    "|Confusion Matrix|Outcome|Prediction|Actual|# of People|\n",
    "|:---|:---|:---|:---|:---|\n",
    "|Top Left|True Positive|coffee|coffee|3|\n",
    "|Bottom Right|True Negative|no coffee|no coffee|2|\n",
    "|Top Right|False Positive/Type I Error|coffee|no coffee|1|\n",
    "|Bottom Left|False Negative/Type II Error|no coffee|coffee|2|\n",
    "\n",
    "\n",
    "|Outcome|English|IRL outcome if put into production|\n",
    "|:---|:---|:---|\n",
    "|True Positive|Jarvis predicts a person likes coffee and they do like coffee.|Customer gets coffee. OK.|\n",
    "|True Negative|Jarvis predicts a person does not like coffee and they do not like coffee.|Customer does not get coffee. OK.|\n",
    "|False Positive|Jarvis predicts a person likes coffee and they do not like coffee.|Customer gets coffee they didn't ask for. Awkward...|\n",
    "|False Negative|Jarvis predicts a person does not like coffee and they do like coffee.|Customer doesn't get coffee they wanted. Karen transforms into Godzilla.|"
   ]
  },
  {
   "cell_type": "markdown",
   "metadata": {},
   "source": [
    "## Baseline model\n",
    "__DummyClassifier__ is a classifier that makes predictions using simple rules. This classifier is useful as a simple baseline to compare with other (real) classifiers.\n",
    "\n",
    "https://scikit-learn.org/stable/modules/generated/sklearn.dummy.DummyClassifier.html#sklearn.dummy.DummyClassifier\n",
    "<div class=\"alert alert-block alert-danger\">\n",
    "Do not use it for real problems.\n",
    "</div>"
   ]
  },
  {
   "cell_type": "code",
   "execution_count": null,
   "metadata": {},
   "outputs": [],
   "source": [
    "# Create a dummy classifier with the strategy as 'most _frequent'.\n",
    "# It predicts the most frequent ACTUAL class/grouping.\n",
    "baseline_classifier = DummyClassifier(strategy='most_frequent')\n",
    "\n",
    "# Fit the dummy classifier with predictions and actual outcomes.\n",
    "baseline_classifier.fit(df.prediction, df.actual)"
   ]
  },
  {
   "cell_type": "code",
   "execution_count": 18,
   "metadata": {},
   "outputs": [
    {
     "data": {
      "text/plain": [
       "array(['coffee', 'coffee', 'coffee', 'coffee', 'coffee', 'coffee',\n",
       "       'coffee', 'coffee'], dtype='<U6')"
      ]
     },
     "execution_count": 18,
     "metadata": {},
     "output_type": "execute_result"
    }
   ],
   "source": [
    "# The dummy classifier pokemon evolves into its final form, Dummy Model.\n",
    "# The model predicts the most frequent 'prediction'\n",
    "# Meaning if df.prediction has 5 'coffee' and 3 'no coffee'\n",
    "# The classifier will predict that eveyone likes coffee. If this\n",
    "# model was used in a ml product it would give everyone coffee.\n",
    "# Oprah would be proud.\n",
    "baseline_classifier.predict(df.prediction) # EVERYONE LIKE COFFEE!!!"
   ]
  },
  {
   "cell_type": "code",
   "execution_count": 19,
   "metadata": {},
   "outputs": [
    {
     "data": {
      "text/plain": [
       "0.625"
      ]
     },
     "execution_count": 19,
     "metadata": {},
     "output_type": "execute_result"
    }
   ],
   "source": [
    "# But, IRL it only gets the prediction right 5/8 times or 62.5%\n",
    "baseline_classifier.score(df.prediction, df.actual)"
   ]
  }
 ],
 "metadata": {
  "kernelspec": {
   "display_name": "Python 3",
   "language": "python",
   "name": "python3"
  },
  "language_info": {
   "codemirror_mode": {
    "name": "ipython",
    "version": 3
   },
   "file_extension": ".py",
   "mimetype": "text/x-python",
   "name": "python",
   "nbconvert_exporter": "python",
   "pygments_lexer": "ipython3",
   "version": "3.7.6"
  }
 },
 "nbformat": 4,
 "nbformat_minor": 4
}
